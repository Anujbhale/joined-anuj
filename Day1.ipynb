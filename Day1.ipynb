{
  "nbformat": 4,
  "nbformat_minor": 0,
  "metadata": {
    "colab": {
      "provenance": []
    },
    "kernelspec": {
      "name": "python3",
      "display_name": "Python 3"
    },
    "language_info": {
      "name": "python"
    }
  },
  "cells": [
    {
      "cell_type": "markdown",
      "source": [
        "#Day 1\n",
        "##  Codes\n"
      ],
      "metadata": {
        "id": "7NX7DfPgJO3g"
      }
    },
    {
      "cell_type": "markdown",
      "source": [
        "###TO Print Even Sum of Numbers"
      ],
      "metadata": {
        "id": "YEfMbxPnKUze"
      }
    },
    {
      "cell_type": "code",
      "source": [
        "target = int(input())\n",
        "\n",
        "even_sum = 0\n",
        "\n",
        "for number in range(2, target+1 , 2):\n",
        "  even_sum += number\n",
        "\n",
        "\n",
        "print(even_sum)"
      ],
      "metadata": {
        "colab": {
          "base_uri": "https://localhost:8080/"
        },
        "id": "-y9kSFZMJkDV",
        "outputId": "4c5f961c-e11c-43c4-f2e4-9f3561898b4b"
      },
      "execution_count": 1,
      "outputs": [
        {
          "output_type": "stream",
          "name": "stdout",
          "text": [
            "34\n",
            "306\n"
          ]
        }
      ]
    },
    {
      "cell_type": "markdown",
      "source": [
        "###To Print Total of All the numbers"
      ],
      "metadata": {
        "id": "cG-y-KJ6Ka4A"
      }
    },
    {
      "cell_type": "code",
      "source": [
        "\n",
        "\n",
        "total = 0\n",
        "\n",
        "for number in range(0,101):\n",
        " total += number\n",
        "\n",
        "print(total)\n"
      ],
      "metadata": {
        "colab": {
          "base_uri": "https://localhost:8080/"
        },
        "id": "jbWfMe7qJv8t",
        "outputId": "df3f6f9a-ecfb-4785-ac38-b3245f256bd3"
      },
      "execution_count": 2,
      "outputs": [
        {
          "output_type": "stream",
          "name": "stdout",
          "text": [
            "5050\n"
          ]
        }
      ]
    },
    {
      "cell_type": "markdown",
      "source": [
        "###To Print Average height of all the students."
      ],
      "metadata": {
        "id": "ZEd60Ys0KiEx"
      }
    },
    {
      "cell_type": "code",
      "source": [
        "\n",
        "\n",
        "student_heights = input().split()\n",
        "\n",
        "for n in range(0, len(student_heights)):\n",
        "\n",
        "  student_heights[n] = int(student_heights[n])\n",
        "\n",
        "sum = 0\n",
        "\n",
        "for height in student_heights:\n",
        "\n",
        "  sum = sum + height\n",
        "\n",
        "\n",
        "\n",
        "\n",
        "\n",
        "print(f\"total height = {sum}\")\n",
        "\n",
        "print(f\"number of students = {len(student_heights)}\")\n",
        "\n",
        "avg = int(round(sum/len(student_heights),0))\n",
        "\n",
        "print(f\"average height = {avg}\")"
      ],
      "metadata": {
        "colab": {
          "base_uri": "https://localhost:8080/"
        },
        "id": "1Osg1rhLJ2HR",
        "outputId": "9828ad57-6cc3-42d2-eb3c-0844ba988e99"
      },
      "execution_count": 3,
      "outputs": [
        {
          "output_type": "stream",
          "name": "stdout",
          "text": [
            "56 76 98\n",
            "total height = 230\n",
            "number of students = 3\n",
            "average height = 77\n"
          ]
        }
      ]
    },
    {
      "cell_type": "markdown",
      "source": [
        "###To print the Highest score of all."
      ],
      "metadata": {
        "id": "7M1Y7he1QK7v"
      }
    },
    {
      "cell_type": "code",
      "source": [
        "\n",
        "\n",
        "student_scores = input().split()\n",
        "\n",
        "for n in range(0, len(student_scores)):\n",
        "\n",
        "  student_scores[n] = int(student_scores[n])\n",
        "\n",
        "highest = student_scores[0]\n",
        "\n",
        "for h in student_scores:\n",
        "\n",
        "  if h > highest:\n",
        "\n",
        "    highest = h\n",
        "\n",
        "\n",
        "\n",
        "print(f\"The highest score in the class is: {highest}\")\n"
      ],
      "metadata": {
        "colab": {
          "base_uri": "https://localhost:8080/"
        },
        "id": "kRF_T4peKCJe",
        "outputId": "78bcbc37-9455-4418-8f77-0d0d49759667"
      },
      "execution_count": 4,
      "outputs": [
        {
          "output_type": "stream",
          "name": "stdout",
          "text": [
            "87 76 91\n",
            "The highest score in the class is: 91\n"
          ]
        }
      ]
    },
    {
      "cell_type": "code",
      "execution_count": null,
      "metadata": {
        "id": "LxB_IGv4JIIp"
      },
      "outputs": [],
      "source": []
    }
  ]
}