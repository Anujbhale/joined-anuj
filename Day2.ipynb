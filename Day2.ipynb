{
  "nbformat": 4,
  "nbformat_minor": 0,
  "metadata": {
    "colab": {
      "provenance": []
    },
    "kernelspec": {
      "name": "python3",
      "display_name": "Python 3"
    },
    "language_info": {
      "name": "python"
    }
  },
  "cells": [
    {
      "cell_type": "markdown",
      "source": [
        "#Day2"
      ],
      "metadata": {
        "id": "JZdX_NthRXhH"
      }
    },
    {
      "cell_type": "markdown",
      "source": [
        "##  Code"
      ],
      "metadata": {
        "id": "ySmZmxdfRb2-"
      }
    },
    {
      "cell_type": "markdown",
      "source": [
        "###Printing the grades of the students Taking inputs from the Dictonary."
      ],
      "metadata": {
        "id": "mBu14m9iRsPa"
      }
    },
    {
      "cell_type": "code",
      "source": [
        "student_scores = {\n",
        "\n",
        "  \"Harry\": 81,\n",
        "\n",
        "  \"Ron\": 78,\n",
        "\n",
        "  \"Hermione\": 99,\n",
        "\n",
        "  \"Draco\": 74,\n",
        "\n",
        "  \"Neville\": 62,\n",
        "\n",
        "}\n",
        "\n",
        "\n",
        "student_grade={}\n",
        "\n",
        "\n",
        "\n",
        "for student in student_scores:\n",
        "\n",
        "  if student_scores[student] <= 70:\n",
        "\n",
        "    student_grade[student] = \"Fail\"\n",
        "\n",
        "  elif student_scores[student] <= 80:\n",
        "\n",
        "    student_grade[student] = \"Acceptable\"\n",
        "\n",
        "  elif student_scores[student] <= 90:\n",
        "\n",
        "    student_grade[student] = \"Exceeds Expectations\"\n",
        "\n",
        "  else:\n",
        "\n",
        "    student_grade[student] = \"Outstanding\"\n",
        "\n",
        "\n",
        "\n",
        "print(student_grade)"
      ],
      "metadata": {
        "colab": {
          "base_uri": "https://localhost:8080/"
        },
        "id": "OkTcpxO8RfvE",
        "outputId": "dff03c99-6af2-412a-e388-c598d0c1350c"
      },
      "execution_count": 5,
      "outputs": [
        {
          "output_type": "stream",
          "name": "stdout",
          "text": [
            "{'Harry': 'Exceeds Expectations', 'Ron': 'Acceptable', 'Hermione': 'Outstanding', 'Draco': 'Acceptable', 'Neville': 'Fail'}\n"
          ]
        }
      ]
    },
    {
      "cell_type": "markdown",
      "source": [
        "\n",
        "\n",
        "###Prime Number checker using If-Else"
      ],
      "metadata": {
        "id": "fkK09c3-R_Ak"
      }
    },
    {
      "cell_type": "code",
      "source": [
        "def prime_checker(number):\n",
        "\n",
        "  if n<2:\n",
        "\n",
        "    print(\"It's not a prime number.\")\n",
        "\n",
        "  else:\n",
        "\n",
        "    for i in range(2,n//2):\n",
        "\n",
        "      if n%i==0:\n",
        "\n",
        "        print(\"It's not a prime number.\")\n",
        "\n",
        "        break\n",
        "\n",
        "    else:\n",
        "\n",
        "      print(\"It's a prime number.\")\n",
        "\n",
        "\n",
        "\n",
        "n = int(input()) # Check this number\n",
        "\n",
        "prime_checker(number=n)"
      ],
      "metadata": {
        "colab": {
          "base_uri": "https://localhost:8080/"
        },
        "id": "b-V5vxvqR7qY",
        "outputId": "83819177-fac4-46dc-ae4f-640da7fd56c5"
      },
      "execution_count": 6,
      "outputs": [
        {
          "output_type": "stream",
          "name": "stdout",
          "text": [
            "11\n",
            "It's a prime number.\n"
          ]
        }
      ]
    },
    {
      "cell_type": "markdown",
      "source": [
        "\n",
        "\n",
        "###Coffee Maker Machine taking inputs ."
      ],
      "metadata": {
        "id": "VJathCXmSXEH"
      }
    },
    {
      "cell_type": "code",
      "source": [
        "\n",
        "MENU = {\n",
        "    \"espresso\": {\n",
        "        \"ingredients\": {\n",
        "            \"water\": 50,\n",
        "            \"coffee\": 18,\n",
        "        },\n",
        "        \"cost\": 1.5,\n",
        "    },\n",
        "    \"latte\": {\n",
        "        \"ingredients\": {\n",
        "            \"water\": 200,\n",
        "            \"milk\": 150,\n",
        "            \"coffee\": 24,\n",
        "        },\n",
        "        \"cost\": 2.5,\n",
        "    },\n",
        "    \"cappuccino\": {\n",
        "        \"ingredients\": {\n",
        "            \"water\": 250,\n",
        "            \"milk\": 100,\n",
        "            \"coffee\": 24,\n",
        "        },\n",
        "        \"cost\": 3.0,\n",
        "    }\n",
        "}\n",
        "\n",
        "\n",
        "\n",
        "profit = 0\n",
        "resources = {\n",
        "    \"water\": 300,\n",
        "    \"milk\": 200,\n",
        "    \"coffee\": 100,\n",
        "}\n",
        "\n",
        "\n",
        "\n",
        "\n",
        "\n",
        "def is_resource_sufficient(order_ingredients):\n",
        "    \"\"\"Returns True when order can be made, False if ingredients are insufficient.\"\"\"\n",
        "    for item in order_ingredients:\n",
        "        if order_ingredients[item] > resources[item]:\n",
        "            print(f\"Sorry there is not enough {item}.\")\n",
        "            return False\n",
        "    return True\n",
        "\n",
        "\n",
        "\n",
        "\n",
        "\n",
        "def process_coins():\n",
        "    \"\"\"Returns the total calculated from coins inserted.\"\"\"\n",
        "    print(\"Please insert coins.\")\n",
        "    total = int(input(\"how many quarters?: \")) * 0.25\n",
        "    total += int(input(\"how many dimes?: \")) * 0.1\n",
        "    total += int(input(\"how many nickles?: \")) * 0.05\n",
        "    total += int(input(\"how many pennies?: \")) * 0.01\n",
        "    return total\n",
        "\n",
        "\n",
        "\n",
        "\n",
        "\n",
        "def is_transaction_successful(money_received, drink_cost):\n",
        "    \"\"\"Return True when the payment is accepted, or False if money is insufficient.\"\"\"\n",
        "    if money_received >= drink_cost:\n",
        "        change = round(money_received - drink_cost, 2)\n",
        "        print(f\"Here is ${change} in change.\")\n",
        "        global profit\n",
        "        profit += drink_cost\n",
        "        return True\n",
        "    else:\n",
        "        print(\"Sorry that's not enough money. Money refunded.\")\n",
        "        return False\n",
        "\n",
        "\n",
        "\n",
        "\n",
        "\n",
        "def make_coffee(drink_name, order_ingredients):\n",
        "    \"\"\"Deduct the required ingredients from the resources.\"\"\"\n",
        "    for item in order_ingredients:\n",
        "        resources[item] -= order_ingredients[item]\n",
        "    print(f\"Here is your {drink_name} ☕️. Enjoy!\")\n",
        "\n",
        "\n",
        "\n",
        "\n",
        "\n",
        "is_on = True\n",
        "\n",
        "\n",
        "\n",
        "while is_on:\n",
        "    choice = input(\"What would you like? (espresso/latte/cappuccino): \")\n",
        "    if choice == \"off\":\n",
        "        is_on = False\n",
        "    elif choice == \"report\":\n",
        "        print(f\"Water: {resources['water']}ml\")\n",
        "        print(f\"Milk: {resources['milk']}ml\")\n",
        "        print(f\"Coffee: {resources['coffee']}g\")\n",
        "        print(f\"Money: ${profit}\")\n",
        "    else:\n",
        "        drink = MENU[choice]\n",
        "        if is_resource_sufficient(drink[\"ingredients\"]):\n",
        "            payment = process_coins()\n",
        "            if is_transaction_successful(payment, drink[\"cost\"]):\n",
        "                make_coffee(choice, drink[\"ingredients\"])"
      ],
      "metadata": {
        "colab": {
          "base_uri": "https://localhost:8080/"
        },
        "id": "R5s2Mm2tSmI4",
        "outputId": "a60b59bf-f009-457f-e5a8-a66ed3ee445e"
      },
      "execution_count": null,
      "outputs": [
        {
          "output_type": "stream",
          "name": "stdout",
          "text": [
            "What would you like? (espresso/latte/cappuccino): latte\n",
            "Please insert coins.\n",
            "how many quarters?: 1\n",
            "how many dimes?: 1\n",
            "how many nickles?: 1\n",
            "how many pennies?: 75\n",
            "Sorry that's not enough money. Money refunded.\n"
          ]
        }
      ]
    }
  ]
}