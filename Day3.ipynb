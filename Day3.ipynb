{
  "nbformat": 4,
  "nbformat_minor": 0,
  "metadata": {
    "colab": {
      "provenance": []
    },
    "kernelspec": {
      "name": "python3",
      "display_name": "Python 3"
    },
    "language_info": {
      "name": "python"
    }
  },
  "cells": [
    {
      "cell_type": "markdown",
      "source": [
        "#Day 3"
      ],
      "metadata": {
        "id": "40tgz22cYWjb"
      }
    },
    {
      "cell_type": "markdown",
      "source": [
        "##  Code\n"
      ],
      "metadata": {
        "id": "bXK-Ppc5YZQl"
      }
    },
    {
      "cell_type": "markdown",
      "source": [
        "## Using If-Else"
      ],
      "metadata": {
        "id": "966NEFZBZErS"
      }
    },
    {
      "cell_type": "code",
      "source": [
        "age = 4\n",
        "\n",
        "if age >= 18:\n",
        "   print(\"You are an adult\")\n",
        "   print(\"You can vote\")\n",
        "elif age<18 and age>3:\n",
        "   print(\"You are in school\")\n",
        "else:\n",
        "   print(\"you are a kid\")\n",
        "print(\"thank u\")"
      ],
      "metadata": {
        "colab": {
          "base_uri": "https://localhost:8080/"
        },
        "id": "zjLg9VMQYqbI",
        "outputId": "29a9d51c-73af-4ef0-c897-d7b2c6316f7d"
      },
      "execution_count": 8,
      "outputs": [
        {
          "output_type": "stream",
          "name": "stdout",
          "text": [
            "You are in school\n",
            "thank u\n"
          ]
        }
      ]
    },
    {
      "cell_type": "markdown",
      "source": [
        "###Sum of 2 Numbers"
      ],
      "metadata": {
        "id": "BWOv64OzZiJk"
      }
    },
    {
      "cell_type": "code",
      "source": [
        "first = input(\"Enter the first number: \")\n",
        "second = input(\"Enter the second number: \")\n",
        "sum = int(first) + int(second)\n",
        "print(\"The sum is: \" + str(sum))"
      ],
      "metadata": {
        "colab": {
          "base_uri": "https://localhost:8080/"
        },
        "id": "jA_CIkxDZOhe",
        "outputId": "2bcd5df6-58f0-4d89-925a-a950ebeed5fd"
      },
      "execution_count": 10,
      "outputs": [
        {
          "output_type": "stream",
          "name": "stdout",
          "text": [
            "Enter the first number: 23\n",
            "Enter the second number: 23\n",
            "The sum is: 46\n"
          ]
        }
      ]
    },
    {
      "cell_type": "markdown",
      "source": [
        "###Making a Calculator"
      ],
      "metadata": {
        "id": "9hgK9rRTZrXB"
      }
    },
    {
      "cell_type": "code",
      "source": [
        "first = input(\"Enter the first number: \")\n",
        "operator = input(\"Enter operator (+, -, *, /, %): \")\n",
        "second = input(\"Enter the second number: \")\n",
        "\n",
        "first = float(first)\n",
        "second = float(second)\n",
        "\n",
        "if operator == \"+\":\n",
        "    print(first + second)\n",
        "elif operator == \"-\":\n",
        "    print(first - second)\n",
        "elif operator == \"*\":\n",
        "    print(first * second)\n",
        "elif operator == \"/\":\n",
        "    if second != 0:\n",
        "        print(first / second)\n",
        "\n",
        "else:\n",
        "    print(\"Invalid operation\")\n"
      ],
      "metadata": {
        "colab": {
          "base_uri": "https://localhost:8080/"
        },
        "id": "-JGrnKUPZmeo",
        "outputId": "964e2e12-a143-443b-d686-948552bdaa9c"
      },
      "execution_count": 11,
      "outputs": [
        {
          "output_type": "stream",
          "name": "stdout",
          "text": [
            "Enter the first number: 23\n",
            "Enter operator (+, -, *, /, %): +\n",
            "Enter the second number: 42\n",
            "65.0\n"
          ]
        }
      ]
    },
    {
      "cell_type": "markdown",
      "source": [
        "###Making a Funtion\n",
        "\n"
      ],
      "metadata": {
        "id": "JruUCUcrZ9wP"
      }
    },
    {
      "cell_type": "code",
      "source": [
        "class Person:\n",
        "    def __init__(self, name, id):\n",
        "        self.name = name\n",
        "        self.id = id\n",
        "\n",
        "    def Display(self):\n",
        "        print(self.name, self.id)\n",
        "\n",
        "emp = Person(\"Anuj\", 102)\n",
        "emp.Display()"
      ],
      "metadata": {
        "colab": {
          "base_uri": "https://localhost:8080/"
        },
        "id": "cGnUrVvYZ0RD",
        "outputId": "e3c13441-5366-4b6e-c931-2ed891050e4a"
      },
      "execution_count": 13,
      "outputs": [
        {
          "output_type": "stream",
          "name": "stdout",
          "text": [
            "Anuj 102\n"
          ]
        }
      ]
    },
    {
      "cell_type": "markdown",
      "source": [
        "###Making a coffee machine\n",
        "\n"
      ],
      "metadata": {
        "id": "J_V9j2p0aUs5"
      }
    },
    {
      "cell_type": "code",
      "source": [
        "MENU = {\n",
        "    \"espresso\": {\n",
        "        \"ingredients\": {\n",
        "            \"water\": 50,\n",
        "            \"coffee\": 18,\n",
        "        },\n",
        "        \"cost\": 1.5,\n",
        "    },\n",
        "    \"latte\": {\n",
        "        \"ingredients\": {\n",
        "            \"water\": 200,\n",
        "            \"milk\": 150,\n",
        "            \"coffee\": 24,\n",
        "        },\n",
        "        \"cost\": 2.5,\n",
        "    },\n",
        "    \"cappuccino\": {\n",
        "        \"ingredients\": {\n",
        "            \"water\": 250,\n",
        "            \"milk\": 100,\n",
        "            \"coffee\": 24,\n",
        "        },\n",
        "        \"cost\": 3.0,\n",
        "    }\n",
        "}\n",
        "\n",
        "\n",
        "\n",
        "profit = 0\n",
        "resources = {\n",
        "    \"water\": 300,\n",
        "    \"milk\": 200,\n",
        "    \"coffee\": 100,\n",
        "}\n",
        "\n",
        "\n",
        "\n",
        "\n",
        "\n",
        "def is_resource_sufficient(order_ingredients):\n",
        "    \"\"\"Returns True when order can be made, False if ingredients are insufficient.\"\"\"\n",
        "    for item in order_ingredients:\n",
        "        if order_ingredients[item] > resources[item]:\n",
        "            print(f\"Sorry there is not enough {item}.\")\n",
        "            return False\n",
        "    return True\n",
        "\n",
        "\n",
        "\n",
        "\n",
        "\n",
        "def process_coins():\n",
        "    \"\"\"Returns the total calculated from coins inserted.\"\"\"\n",
        "    print(\"Please insert coins.\")\n",
        "    total = int(input(\"how many quarters?: \")) * 0.25\n",
        "    total += int(input(\"how many dimes?: \")) * 0.1\n",
        "    total += int(input(\"how many nickles?: \")) * 0.05\n",
        "    total += int(input(\"how many pennies?: \")) * 0.01\n",
        "    return total\n",
        "\n",
        "\n",
        "\n",
        "\n",
        "\n",
        "def is_transaction_successful(money_received, drink_cost):\n",
        "    \"\"\"Return True when the payment is accepted, or False if money is insufficient.\"\"\"\n",
        "    if money_received >= drink_cost:\n",
        "        change = round(money_received - drink_cost, 2)\n",
        "        print(f\"Here is ${change} in change.\")\n",
        "        global profit\n",
        "        profit += drink_cost\n",
        "        return True\n",
        "    else:\n",
        "        print(\"Sorry that's not enough money. Money refunded.\")\n",
        "        return False\n",
        "\n",
        "\n",
        "\n",
        "\n",
        "\n",
        "def make_coffee(drink_name, order_ingredients):\n",
        "    \"\"\"Deduct the required ingredients from the resources.\"\"\"\n",
        "    for item in order_ingredients:\n",
        "        resources[item] -= order_ingredients[item]\n",
        "    print(f\"Here is your {drink_name} ☕️. Enjoy!\")\n",
        "\n",
        "\n",
        "\n",
        "\n",
        "\n",
        "is_on = True\n",
        "\n",
        "\n",
        "\n",
        "while is_on:\n",
        "    choice = input(\"What would you like? (espresso/latte/cappuccino): \")\n",
        "    if choice == \"off\":\n",
        "        is_on = False\n",
        "    elif choice == \"report\":\n",
        "        print(f\"Water: {resources['water']}ml\")\n",
        "        print(f\"Milk: {resources['milk']}ml\")\n",
        "        print(f\"Coffee: {resources['coffee']}g\")\n",
        "        print(f\"Money: ${profit}\")\n",
        "    else:\n",
        "        drink = MENU[choice]\n",
        "        if is_resource_sufficient(drink[\"ingredients\"]):\n",
        "            payment = process_coins()\n",
        "            if is_transaction_successful(payment, drink[\"cost\"]):\n",
        "                make_coffee(choice, drink[\"ingredients\"])\n"
      ],
      "metadata": {
        "colab": {
          "base_uri": "https://localhost:8080/"
        },
        "id": "bjOTESfhaBUF",
        "outputId": "61adf057-7937-4c11-def5-c0d8eaaf72bc"
      },
      "execution_count": null,
      "outputs": [
        {
          "output_type": "stream",
          "name": "stdout",
          "text": [
            "What would you like? (espresso/latte/cappuccino): latte\n",
            "Please insert coins.\n",
            "how many quarters?: 1\n",
            "how many dimes?: 1\n",
            "how many nickles?: 1\n",
            "how many pennies?: 9899\n",
            "Here is $96.89 in change.\n",
            "Here is your latte ☕️. Enjoy!\n"
          ]
        }
      ]
    }
  ]
}