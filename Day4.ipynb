{
  "nbformat": 4,
  "nbformat_minor": 0,
  "metadata": {
    "colab": {
      "provenance": []
    },
    "kernelspec": {
      "name": "python3",
      "display_name": "Python 3"
    },
    "language_info": {
      "name": "python"
    }
  },
  "cells": [
    {
      "cell_type": "markdown",
      "source": [
        "#Day 4\n"
      ],
      "metadata": {
        "id": "93hB6whQbBds"
      }
    },
    {
      "cell_type": "markdown",
      "source": [
        "##  Code"
      ],
      "metadata": {
        "id": "VS49XV7jbDm6"
      }
    },
    {
      "cell_type": "markdown",
      "source": [
        "###Average height of the students"
      ],
      "metadata": {
        "id": "-Z9qqfHubgEU"
      }
    },
    {
      "cell_type": "code",
      "source": [
        "student_heights = input().split()\n",
        "\n",
        "for n in range(0, len(student_heights)):\n",
        "\n",
        "  student_heights[n] = int(student_heights[n])\n",
        "\n",
        "sum = 0\n",
        "\n",
        "for height in student_heights:\n",
        "\n",
        "  sum = sum + height\n",
        "\n",
        "\n",
        "\n",
        "\n",
        "\n",
        "print(f\"total height = {sum}\")\n",
        "\n",
        "print(f\"number of students = {len(student_heights)}\")\n",
        "\n",
        "avg = int(round(sum/len(student_heights),0))\n",
        "\n",
        "print(f\"average height = {avg}\")"
      ],
      "metadata": {
        "colab": {
          "base_uri": "https://localhost:8080/"
        },
        "id": "pO4nzwLybF2b",
        "outputId": "61fadc1a-5897-44b8-c314-3b82fa6ecc8d"
      },
      "execution_count": 16,
      "outputs": [
        {
          "output_type": "stream",
          "name": "stdout",
          "text": [
            "34 56 43\n",
            "total height = 133\n",
            "number of students = 3\n",
            "average height = 44\n"
          ]
        }
      ]
    },
    {
      "cell_type": "markdown",
      "source": [
        "###Creating a List.\n",
        "\n"
      ],
      "metadata": {
        "id": "OMMgbWIQb1g_"
      }
    },
    {
      "cell_type": "code",
      "source": [
        "my_list = [1, 2, 3, 4, 5]\n",
        "\n",
        "print(my_list[0])\n",
        "\n",
        "my_list.append(6)\n",
        "my_list[1] = 20\n",
        "\n",
        "for item in my_list:\n",
        "    print(item)\n",
        "\n",
        "squared_list = [x**2 for x in my_list]\n",
        "print(squared_list)\n"
      ],
      "metadata": {
        "colab": {
          "base_uri": "https://localhost:8080/"
        },
        "id": "lomatjKabzRp",
        "outputId": "55bfc766-931f-4a73-a991-8bcfd0555af0"
      },
      "execution_count": 17,
      "outputs": [
        {
          "output_type": "stream",
          "name": "stdout",
          "text": [
            "1\n",
            "1\n",
            "20\n",
            "3\n",
            "4\n",
            "5\n",
            "6\n",
            "[1, 400, 9, 16, 25, 36]\n"
          ]
        }
      ]
    },
    {
      "cell_type": "markdown",
      "source": [
        "###Using the range funtion\n",
        "\n"
      ],
      "metadata": {
        "id": "q7t6AV8QcGpV"
      }
    },
    {
      "cell_type": "code",
      "source": [
        "target = 100\n",
        "for number in range(1,target + 1):\n",
        "  if number % 3 == 0 and number % 5 == 0:\n",
        "    print(\"FizzBuzz\")\n",
        "  elif number % 3 == 0:\n",
        "    print(\"Fizz\")\n",
        "  elif number % 5 == 0:\n",
        "    print(\"Buzz\")\n",
        "  else:\n",
        "    print(number)"
      ],
      "metadata": {
        "colab": {
          "base_uri": "https://localhost:8080/"
        },
        "id": "MzLc1dqlb5t8",
        "outputId": "138b4e69-46d6-4128-8740-f5ae7db6323b"
      },
      "execution_count": 18,
      "outputs": [
        {
          "output_type": "stream",
          "name": "stdout",
          "text": [
            "1\n",
            "2\n",
            "Fizz\n",
            "4\n",
            "Buzz\n",
            "Fizz\n",
            "7\n",
            "8\n",
            "Fizz\n",
            "Buzz\n",
            "11\n",
            "Fizz\n",
            "13\n",
            "14\n",
            "FizzBuzz\n",
            "16\n",
            "17\n",
            "Fizz\n",
            "19\n",
            "Buzz\n",
            "Fizz\n",
            "22\n",
            "23\n",
            "Fizz\n",
            "Buzz\n",
            "26\n",
            "Fizz\n",
            "28\n",
            "29\n",
            "FizzBuzz\n",
            "31\n",
            "32\n",
            "Fizz\n",
            "34\n",
            "Buzz\n",
            "Fizz\n",
            "37\n",
            "38\n",
            "Fizz\n",
            "Buzz\n",
            "41\n",
            "Fizz\n",
            "43\n",
            "44\n",
            "FizzBuzz\n",
            "46\n",
            "47\n",
            "Fizz\n",
            "49\n",
            "Buzz\n",
            "Fizz\n",
            "52\n",
            "53\n",
            "Fizz\n",
            "Buzz\n",
            "56\n",
            "Fizz\n",
            "58\n",
            "59\n",
            "FizzBuzz\n",
            "61\n",
            "62\n",
            "Fizz\n",
            "64\n",
            "Buzz\n",
            "Fizz\n",
            "67\n",
            "68\n",
            "Fizz\n",
            "Buzz\n",
            "71\n",
            "Fizz\n",
            "73\n",
            "74\n",
            "FizzBuzz\n",
            "76\n",
            "77\n",
            "Fizz\n",
            "79\n",
            "Buzz\n",
            "Fizz\n",
            "82\n",
            "83\n",
            "Fizz\n",
            "Buzz\n",
            "86\n",
            "Fizz\n",
            "88\n",
            "89\n",
            "FizzBuzz\n",
            "91\n",
            "92\n",
            "Fizz\n",
            "94\n",
            "Buzz\n",
            "Fizz\n",
            "97\n",
            "98\n",
            "Fizz\n",
            "Buzz\n"
          ]
        }
      ]
    },
    {
      "cell_type": "markdown",
      "source": [
        "###Creating a Love Calculator\n",
        "\n"
      ],
      "metadata": {
        "id": "aw3P8VgScjbT"
      }
    },
    {
      "cell_type": "code",
      "source": [
        "print(\"The Love Calculator is calculating your score...\")\n",
        "\n",
        "name1 = input() # What is your name?\n",
        "\n",
        "name2 = input() # What is their name?\n",
        "\n",
        "# 🚨 Don't change the code above 👆\n",
        "\n",
        "# Write your code below this line 👇\n",
        "\n",
        "name1 = name1.upper()\n",
        "\n",
        "name2 = name2.upper()\n",
        "\n",
        "score1=name1.count(\"T\")+name1.count(\"R\")+name1.count(\"U\")+name1.count(\"E\")+name2.count(\"T\")+name2.count(\"R\")+name2.count(\"U\")+name2.count(\"E\")\n",
        "\n",
        "score2=name2.count(\"L\")+name2.count(\"O\")+name2.count(\"V\")+name2.count(\"E\")+name1.count(\"L\")+name1.count(\"O\")+name1.count(\"V\")+name1.count(\"E\")\n",
        "\n",
        "\n",
        "\n",
        "score = int(str(score1)+str(score2))\n",
        "\n",
        "if score<=10 or score>=90:\n",
        "\n",
        "  print(f\"Your score is {score}, you go together like coke and mentos.\")\n",
        "\n",
        "elif 40<=score<=50:\n",
        "\n",
        "  print(f\"Your score is {score}, you are alright together.\")\n",
        "\n",
        "else:\n",
        "\n",
        "  print(f\"Your score is {score}.\")"
      ],
      "metadata": {
        "colab": {
          "base_uri": "https://localhost:8080/"
        },
        "id": "dYYmfAEOcTh8",
        "outputId": "0a63281c-65a4-4648-a3bf-a00df564a84a"
      },
      "execution_count": 19,
      "outputs": [
        {
          "output_type": "stream",
          "name": "stdout",
          "text": [
            "The Love Calculator is calculating your score...\n",
            "Anuj\n",
            "Swati\n",
            "Your score is 20.\n"
          ]
        }
      ]
    },
    {
      "cell_type": "markdown",
      "source": [
        "###Using Len funtion"
      ],
      "metadata": {
        "id": "bZcT-Hchc0oq"
      }
    },
    {
      "cell_type": "code",
      "source": [
        "sentence = input()\n",
        "\n",
        "\n",
        "\n",
        "# Using dictionary comprehension\n",
        "\n",
        "result = {word:len(word) for word in sentence.split()}\n",
        "\n",
        "\n",
        "\n",
        "print(result)\n"
      ],
      "metadata": {
        "colab": {
          "base_uri": "https://localhost:8080/"
        },
        "id": "Y2cqKp5scp3V",
        "outputId": "ff859a3f-252b-4000-a5d6-533d7518e653"
      },
      "execution_count": 20,
      "outputs": [
        {
          "output_type": "stream",
          "name": "stdout",
          "text": [
            "ANujis\n",
            "{'ANujis': 6}\n"
          ]
        }
      ]
    },
    {
      "cell_type": "markdown",
      "source": [
        "###Weather\n",
        "\n"
      ],
      "metadata": {
        "id": "DvajzanHdTTq"
      }
    },
    {
      "cell_type": "code",
      "source": [
        "# eval() converts correctly formatted string to dict\n",
        "\n",
        "weather_c = eval(input())\n",
        "\n",
        "\n",
        "\n",
        "# dictionary comprehension\n",
        "\n",
        "weather_f = {day:temp * 9/5 + 32 for (day, temp) in weather_c.items()}\n",
        "\n",
        "\n",
        "\n",
        "print(weather_f)"
      ],
      "metadata": {
        "id": "FkR0fwGUdem9"
      },
      "execution_count": null,
      "outputs": []
    },
    {
      "cell_type": "markdown",
      "source": [
        "###Using 2 Diffrent Funtions"
      ],
      "metadata": {
        "id": "Xxt5Bg3bd0a7"
      }
    },
    {
      "cell_type": "code",
      "source": [
        "class Employee:\n",
        "    def __init__(self, name, id):\n",
        "        self.id = id\n",
        "        self.name = name\n",
        "\n",
        "    def display(self):\n",
        "        print(\"ID: %d\\nName: %s\" % (self.id, self.name))\n",
        "\n",
        "emp1 = Employee(\"Anuj\", 101)\n",
        "emp2 = Employee(\"Rahul\", 102)\n",
        "\n",
        "emp1.display()\n",
        "emp2.display()\n"
      ],
      "metadata": {
        "colab": {
          "base_uri": "https://localhost:8080/"
        },
        "id": "YASvyK5Odfq9",
        "outputId": "42e13591-7a29-476a-e750-58841b049b34"
      },
      "execution_count": 27,
      "outputs": [
        {
          "output_type": "stream",
          "name": "stdout",
          "text": [
            "ID: 101\n",
            "Name: Anuj\n",
            "ID: 102\n",
            "Name: Rahul\n"
          ]
        }
      ]
    }
  ]
}