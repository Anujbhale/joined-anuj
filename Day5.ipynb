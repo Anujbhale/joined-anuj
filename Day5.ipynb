{
  "nbformat": 4,
  "nbformat_minor": 0,
  "metadata": {
    "colab": {
      "provenance": []
    },
    "kernelspec": {
      "name": "python3",
      "display_name": "Python 3"
    },
    "language_info": {
      "name": "python"
    }
  },
  "cells": [
    {
      "cell_type": "markdown",
      "source": [
        "#Day 5"
      ],
      "metadata": {
        "id": "gJAYET1TPD1R"
      }
    },
    {
      "cell_type": "markdown",
      "source": [
        "## Code"
      ],
      "metadata": {
        "id": "4PkiP3KZPFyN"
      }
    },
    {
      "cell_type": "markdown",
      "source": [
        "###Coffee Maker Machine"
      ],
      "metadata": {
        "id": "0wuA7c1PQcsL"
      }
    },
    {
      "cell_type": "code",
      "source": [
        "MENU = {\n",
        "    \"espresso\": {\n",
        "        \"ingredients\": {\n",
        "            \"water\": 50,\n",
        "            \"coffee\": 18,\n",
        "        },\n",
        "        \"cost\": 1.5,\n",
        "    },\n",
        "    \"latte\": {\n",
        "        \"ingredients\": {\n",
        "            \"water\": 200,\n",
        "            \"milk\": 150,\n",
        "            \"coffee\": 24,\n",
        "        },\n",
        "        \"cost\": 2.5,\n",
        "    },\n",
        "    \"cappuccino\": {\n",
        "        \"ingredients\": {\n",
        "            \"water\": 250,\n",
        "            \"milk\": 100,\n",
        "            \"coffee\": 24,\n",
        "        },\n",
        "        \"cost\": 3.0,\n",
        "    }\n",
        "}\n",
        "\n",
        "\n",
        "\n",
        "profit = 0\n",
        "resources = {\n",
        "    \"water\": 300,\n",
        "    \"milk\": 200,\n",
        "    \"coffee\": 100,\n",
        "}\n",
        "\n",
        "\n",
        "\n",
        "\n",
        "\n",
        "def is_resource_sufficient(order_ingredients):\n",
        "    \"\"\"Returns True when order can be made, False if ingredients are insufficient.\"\"\"\n",
        "    for item in order_ingredients:\n",
        "        if order_ingredients[item] > resources[item]:\n",
        "            print(f\"Sorry there is not enough {item}.\")\n",
        "            return False\n",
        "    return True\n",
        "\n",
        "\n",
        "\n",
        "\n",
        "\n",
        "def process_coins():\n",
        "    \"\"\"Returns the total calculated from coins inserted.\"\"\"\n",
        "    print(\"Please insert coins.\")\n",
        "    total = int(input(\"how many quarters?: \")) * 0.25\n",
        "    total += int(input(\"how many dimes?: \")) * 0.1\n",
        "    total += int(input(\"how many nickles?: \")) * 0.05\n",
        "    total += int(input(\"how many pennies?: \")) * 0.01\n",
        "    return total\n",
        "\n",
        "\n",
        "\n",
        "\n",
        "\n",
        "def is_transaction_successful(money_received, drink_cost):\n",
        "    \"\"\"Return True when the payment is accepted, or False if money is insufficient.\"\"\"\n",
        "    if money_received >= drink_cost:\n",
        "        change = round(money_received - drink_cost, 2)\n",
        "        print(f\"Here is ${change} in change.\")\n",
        "        global profit\n",
        "        profit += drink_cost\n",
        "        return True\n",
        "    else:\n",
        "        print(\"Sorry that's not enough money. Money refunded.\")\n",
        "        return False\n",
        "\n",
        "\n",
        "\n",
        "\n",
        "\n",
        "def make_coffee(drink_name, order_ingredients):\n",
        "    \"\"\"Deduct the required ingredients from the resources.\"\"\"\n",
        "    for item in order_ingredients:\n",
        "        resources[item] -= order_ingredients[item]\n",
        "    print(f\"Here is your {drink_name} ☕️. Enjoy!\")\n",
        "\n",
        "\n",
        "\n",
        "\n",
        "\n",
        "is_on = True\n",
        "\n",
        "\n",
        "\n",
        "while is_on:\n",
        "    choice = input(\"What would you like? (espresso/latte/cappuccino): \")\n",
        "    if choice == \"off\":\n",
        "        is_on = False\n",
        "    elif choice == \"report\":\n",
        "        print(f\"Water: {resources['water']}ml\")\n",
        "        print(f\"Milk: {resources['milk']}ml\")\n",
        "        print(f\"Coffee: {resources['coffee']}g\")\n",
        "        print(f\"Money: ${profit}\")\n",
        "    else:\n",
        "        drink = MENU[choice]\n",
        "        if is_resource_sufficient(drink[\"ingredients\"]):\n",
        "            payment = process_coins()\n",
        "            if is_transaction_successful(payment, drink[\"cost\"]):\n",
        "                make_coffee(choice, drink[\"ingredients\"])\n"
      ],
      "metadata": {
        "colab": {
          "base_uri": "https://localhost:8080/"
        },
        "id": "A0yQ_sgZQhQh",
        "outputId": "e325ade4-e9f7-4957-bbfb-38fd53dcf131"
      },
      "execution_count": null,
      "outputs": [
        {
          "metadata": {
            "tags": null
          },
          "name": "stdout",
          "output_type": "stream",
          "text": [
            "Please insert coins.\n",
            "Sorry that's not enough money. Money refunded.\n"
          ]
        }
      ]
    },
    {
      "cell_type": "markdown",
      "source": [
        "###Calculating Student Score"
      ],
      "metadata": {
        "id": "rKjUSrOwROOW"
      }
    },
    {
      "cell_type": "code",
      "source": [
        "\n",
        "student_scores = {\n",
        "\n",
        "  \"Harry\": 81,\n",
        "\n",
        "  \"Ron\": 78,\n",
        "\n",
        "  \"Hermione\": 99,\n",
        "\n",
        "  \"Draco\": 74,\n",
        "\n",
        "  \"Neville\": 62,\n",
        "\n",
        "}\n",
        "\n",
        "\n",
        "student_grade={}\n",
        "\n",
        "\n",
        "\n",
        "for student in student_scores:\n",
        "\n",
        "  if student_scores[student] <= 70:\n",
        "\n",
        "    student_grade[student] = \"Fail\"\n",
        "\n",
        "  elif student_scores[student] <= 80:\n",
        "\n",
        "    student_grade[student] = \"Acceptable\"\n",
        "\n",
        "  elif student_scores[student] <= 90:\n",
        "\n",
        "    student_grade[student] = \"Exceeds Expectations\"\n",
        "\n",
        "  else:\n",
        "\n",
        "    student_grade[student] = \"Outstanding\"\n",
        "\n",
        "\n",
        "\n",
        "print(student_grade)\n"
      ],
      "metadata": {
        "colab": {
          "base_uri": "https://localhost:8080/"
        },
        "id": "le954HXaRX8y",
        "outputId": "cf1dfd0a-cbc7-45df-df50-663a24a0912e"
      },
      "execution_count": 4,
      "outputs": [
        {
          "output_type": "stream",
          "name": "stdout",
          "text": [
            "{'Harry': 'Exceeds Expectations', 'Ron': 'Acceptable', 'Hermione': 'Outstanding', 'Draco': 'Acceptable', 'Neville': 'Fail'}\n"
          ]
        }
      ]
    },
    {
      "cell_type": "markdown",
      "source": [
        "##HTML Code From here"
      ],
      "metadata": {
        "id": "4sDufxttQr2W"
      }
    },
    {
      "cell_type": "markdown",
      "source": [
        "###Heading, Paragraph and Hr Tag\n"
      ],
      "metadata": {
        "id": "XHd-35VjPI5x"
      }
    },
    {
      "cell_type": "markdown",
      "source": [
        "<h1>William Blake</h1>\n",
        "\n",
        "<p>\n",
        "17 south molton street<br />\n",
        "London<br />\n",
        "W1K 5QT<br />\n",
        "UK<br />\n",
        "</p>\n",
        "\n",
        "<hr />\n",
        "\n",
        "<p>William Blake (28 November 1757 – 12 August 1827) was an English poet, painter, and printmaker. Largely unrecognised\n",
        "during his life, Blake is now considered a seminal figure in the history of the poetry and visual art of the Romantic\n",
        "Age. What he called his \"prophetic works\" were said by 20th-century critic Northrop Frye to form \"what is in proportion\n",
        "to its merits the least read body of poetry in the English language\".[2] His visual artistry led 21st-century critic\n",
        "Jonathan Jones to proclaim him \"far and away the greatest artist Britain has ever produced\".[3] In 2002, Blake was\n",
        "placed at number 38 in the BBC's poll of the 100 Greatest Britons.[4] While he lived in London his entire life, except\n",
        "for three years spent in Felpham,[5] he produced a diverse and symbolically rich collection of works, which embraced the\n",
        "imagination as \"the body of God\"[6] or \"human existence itself\".[7]</p>\n",
        "\n",
        "<p>Although Blake was considered mad by contemporaries for his idiosyncratic views, he is held in high regard by later\n",
        "critics for his expressiveness and creativity, and for the philosophical and mystical undercurrents within his work. His\n",
        "paintings and poetry have been characterised as part of the Romantic movement and as \"Pre-Romantic\".[8] In fact, he has\n",
        "been said to be \"a key early proponent of both Romanticism and Nationalism\".[9] A committed Christian who was hostile to\n",
        "the Church of England (indeed, to almost all forms of organised religion), Blake was influenced by the ideals and\n",
        "ambitions of the French and American revolutions.[10][11] Though later he rejected many of these political beliefs, he\n",
        "maintained an amiable relationship with the political activist Thomas Paine; he was also influenced by thinkers such as\n",
        "Emanuel Swedenborg.[12] Despite these known influences, the singularity of Blake's work makes him difficult to classify.\n",
        "The 19th-century scholar William Michael Rossetti characterised him as a \"glorious luminary\",[13] and \"a man not\n",
        "forestalled by predecessors, nor to be classed with contemporaries, nor to be replaced by known or readily surmisable\n",
        "successors\".[14]</p>"
      ],
      "metadata": {
        "id": "BB2WTc7wP5fb"
      }
    },
    {
      "cell_type": "code",
      "source": [],
      "metadata": {
        "id": "RBAjCZSwP-tz"
      },
      "execution_count": null,
      "outputs": []
    },
    {
      "cell_type": "markdown",
      "source": [
        "### Movie Suggester"
      ],
      "metadata": {
        "id": "se-JgNjzQCy-"
      }
    },
    {
      "cell_type": "markdown",
      "source": [
        "<h1>The Best Movies According to Angela</h1>\n",
        "\n",
        "<h2>My top 3 Movies of all Time</h2>\n",
        "<hr>\n",
        "<h3>Sprited Away</h3>\n",
        "<p>\n",
        "    This is my favorite anime.\n",
        "</p>\n",
        "<h3>Ex-Machine</h3>\n",
        "<p>\n",
        "    Really cool scientific movie.\n",
        "</p>\n",
        "<h3>Drive</h3>\n",
        "<p>\n",
        "    Super beautiful film.\n",
        "</p>\n"
      ],
      "metadata": {
        "id": "Id99_n82QMQ9"
      }
    }
  ]
}