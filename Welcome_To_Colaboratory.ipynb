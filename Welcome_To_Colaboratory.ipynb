{
  "cells": [
    {
      "cell_type": "markdown",
      "source": [
        "#Day 6"
      ],
      "metadata": {
        "id": "Ihx9DJmERc_e"
      }
    },
    {
      "cell_type": "markdown",
      "source": [
        "## Code"
      ],
      "metadata": {
        "id": "rFHDtgQGRf_l"
      }
    },
    {
      "cell_type": "markdown",
      "source": [
        "###Basic Boiler Plate Code"
      ],
      "metadata": {
        "id": "lnQOTRkyRXqn"
      }
    },
    {
      "cell_type": "markdown",
      "source": [
        "<!DOCTYPE html>\n",
        "<html lang =\"en\">\n",
        "  <head>\n",
        "    <meta charset=\"UTF-8\">\n",
        "    <title>My Website</title>\n",
        "  </head>\n",
        "  <body>\n",
        "    <h1>Hello World..!!</h1>\n",
        "  </body>\n",
        "</html>"
      ],
      "metadata": {
        "id": "iIuxYzvaRWvX"
      }
    },
    {
      "cell_type": "markdown",
      "source": [
        "###Boiler PLate Code"
      ],
      "metadata": {
        "id": "S05-q5cFRRcL"
      }
    },
    {
      "cell_type": "markdown",
      "source": [
        "<!DOCTYPE html>\n",
        "<html lang=\"en\">\n",
        "<head>\n",
        "    <meta charset=\"UTF-8\">\n",
        "    <meta name=\"viewport\" content=\"width=device-width, initial-scale=1.0\">\n",
        "    <title>Document</title>\n",
        "</head>\n",
        "<body>\n",
        "    \n",
        "</body>\n",
        "</html>"
      ],
      "metadata": {
        "id": "SqUnP1TcRrSe"
      }
    },
    {
      "cell_type": "markdown",
      "source": [
        "### Ordered List and Unordered List"
      ],
      "metadata": {
        "id": "-dRxtv-CUIxP"
      }
    },
    {
      "cell_type": "markdown",
      "source": [
        "<h1>Angela's Recipe for the Best Cinnamon Rolls </h1>\n",
        "\n",
        "<h2>Ingredients</h2>\n",
        "\n",
        "<h3>For the dough:</h3>\n",
        "<ul>\n",
        "  <li>¾ cup warm milk</li>\n",
        "  <li>2 ¼ teaspoons yeast </li>\n",
        "  <li>¼ cup granulated sugar</li>\n",
        "  <li>1 egg plus 1 egg yolk</li>\n",
        "  <li>¼ cup butter</li>\n",
        "  <li>3 cups bread flour</li>\n",
        "</ul>\n",
        "\n",
        "<h3>For the filling:</h3>\n",
        "<ul>\n",
        "  <li>2/3 cup dark brown sugar </li>\n",
        "  <li>1 ½ tablespoons ground cinnamon</li>\n",
        "  <li>¼ cup butter</li>\n",
        "</ul>\n",
        "\n",
        "\n",
        "<h2>Instructions</h2>\n",
        "\n",
        "<ol>\n",
        "  <li>Mix the milk with the yeast, sugar, eggs.</li>\n",
        "  <li>Melt the butter and add to the mixture.</li>\n",
        "  <li>Add in the flour and mix until combined into a dough.</li>\n",
        "  <li>Knead the dough for 10 minuites.</li>\n",
        "  <li>Transfer the dough into a large bowl and cover with plastic wrap. Leave it somewhere to rise for 2 hours.</li>\n",
        "  <li>After the dough has doubled in size, roll it out into a large rectangle.</li>\n",
        "  <li>Melt the butter for the filling and mix in the sugar and cinnamon.</li>\n",
        "  <li>Spread the filling onto the dough then roll the dough into a swiss roll.</li>\n",
        "  <li>Cut the roll into 3cm sections and place flat into a baking tray.</li>\n",
        "  <li>Preheat the oven to 350F or 180C, then bake the rolls for 20-25min until lightly brown.</li>\n",
        "</ol>"
      ],
      "metadata": {
        "id": "d9NjiGvYUO15"
      }
    },
    {
      "cell_type": "markdown",
      "source": [
        "###Nested List and Indentation\n"
      ],
      "metadata": {
        "id": "vTzQz9xzXA-Z"
      }
    },
    {
      "cell_type": "markdown",
      "source": [
        "<ul>\n",
        "    <li>A</li>\n",
        "    <li>\n",
        "      B\n",
        "      <ol>\n",
        "        <li>B1</li>\n",
        "        <li>B2\n",
        "          <ul>\n",
        "            <li>B2a\n",
        "              <ul>\n",
        "                <li>B2aa</li>\n",
        "                <li>B2ab</li>\n",
        "              </ul>\n",
        "            </li>\n",
        "            <li>B2b</li>\n",
        "            <li>B2c</li>\n",
        "          </ul>\n",
        "        </li>\n",
        "        <li>B3\n",
        "          <ol>\n",
        "            <li>B31</li>\n",
        "            <li>B32</li>\n",
        "          </ol>\n",
        "        </li>\n",
        "      </ol>\n",
        "    </li>\n",
        "    <li>C</li>\n",
        "  </ul>"
      ],
      "metadata": {
        "id": "-LRijQ3dXHwX"
      }
    },
    {
      "cell_type": "markdown",
      "source": [
        "### Anchor Tag"
      ],
      "metadata": {
        "id": "9X2ZlMsI11_J"
      }
    },
    {
      "cell_type": "markdown",
      "source": [
        "<h1>My top 5 Favourite Websites</h1>\n",
        "<!-- Write your code below -->\n",
        "<ol>\n",
        "  <li><a href=\"https://www.producthunt.com/\">Product Hunt</a></li>\n",
        "  <li><a href=\"https://smashthewalls.com/\">Smash the Walls</a></li>\n",
        "  <li><a href=\"https://www.nytimes.com/games/wordle\">Wordle</a></li>\n",
        "  <li><a href=\"https://hackertyper.com/\">Hacker Typer</a></li>\n",
        "  <li><a href=\"https://stellarium-web.org/\">Stellarium</a></li>\n",
        "</ol>\n",
        "\n",
        "\n",
        "\n",
        "<!-- Extra challenge Solution-->\n",
        "<ol start=\"5\">\n",
        "  <li><a href=\"https://www.producthunt.com/\">Product Hunt</a></li>\n",
        "  <li><a href=\"https://smashthewalls.com/\">Smash the Walls</a></li>\n",
        "  <li><a href=\"https://www.nytimes.com/games/wordle\">Wordle</a></li>\n",
        "  <li><a href=\"https://hackertyper.com/\">Hacker Typer</a></li>\n",
        "  <li><a href=\"https://stellarium-web.org/\">Stellarium</a></li>\n",
        "</ol>"
      ],
      "metadata": {
        "id": "hJoBlLc215nA"
      }
    },
    {
      "cell_type": "markdown",
      "source": [
        "###Cat Image"
      ],
      "metadata": {
        "id": "Nd1WG7SiEnbJ"
      }
    },
    {
      "cell_type": "markdown",
      "source": [
        "<h1>I am a Cat Person</h1>\n",
        "<img src=\"https://raw.githubusercontent.com/appbrewery/webdev/main/kitten.jpeg\" alt=\"kitten held in hand\" />\n",
        "\n"
      ],
      "metadata": {
        "id": "0Qw-MILkEtMZ"
      }
    },
    {
      "cell_type": "markdown",
      "source": [
        "###Dog Image"
      ],
      "metadata": {
        "id": "0EP4nM6fEwdy"
      }
    },
    {
      "cell_type": "markdown",
      "source": [
        "<h1>I am a Dog Person</h1>\n",
        "<img src=\"https://raw.githubusercontent.com/appbrewery/webdev/main/puppy.gif\" alt=\"puppy digging in the sand\" />"
      ],
      "metadata": {
        "id": "2A6wVaihE08R"
      }
    }
  ],
  "metadata": {
    "colab": {
      "name": "Welcome To Colaboratory",
      "toc_visible": true,
      "provenance": []
    },
    "kernelspec": {
      "display_name": "Python 3",
      "name": "python3"
    }
  },
  "nbformat": 4,
  "nbformat_minor": 0
}